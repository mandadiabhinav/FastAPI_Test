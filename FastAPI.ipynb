{
 "cells": [
  {
   "cell_type": "code",
   "execution_count": 1,
   "id": "3eac7d80",
   "metadata": {},
   "outputs": [
    {
     "name": "stdout",
     "output_type": "stream",
     "text": [
      "Requirement already satisfied: fastapi in c:\\users\\abhinavreddymandadi\\anaconda3\\lib\\site-packages (0.114.0)\n",
      "Requirement already satisfied: uvicorn in c:\\users\\abhinavreddymandadi\\anaconda3\\lib\\site-packages (0.30.6)\n",
      "Requirement already satisfied: pydantic!=1.8,!=1.8.1,!=2.0.0,!=2.0.1,!=2.1.0,<3.0.0,>=1.7.4 in c:\\users\\abhinavreddymandadi\\anaconda3\\lib\\site-packages (from fastapi) (2.9.1)\n",
      "Requirement already satisfied: typing-extensions>=4.8.0 in c:\\users\\abhinavreddymandadi\\anaconda3\\lib\\site-packages (from fastapi) (4.8.0)\n",
      "Requirement already satisfied: starlette<0.39.0,>=0.37.2 in c:\\users\\abhinavreddymandadi\\anaconda3\\lib\\site-packages (from fastapi) (0.38.5)\n",
      "Requirement already satisfied: click>=7.0 in c:\\users\\abhinavreddymandadi\\anaconda3\\lib\\site-packages (from uvicorn) (8.0.4)\n",
      "Requirement already satisfied: h11>=0.8 in c:\\users\\abhinavreddymandadi\\anaconda3\\lib\\site-packages (from uvicorn) (0.14.0)\n",
      "Requirement already satisfied: colorama in c:\\users\\abhinavreddymandadi\\anaconda3\\lib\\site-packages (from click>=7.0->uvicorn) (0.4.4)\n",
      "Requirement already satisfied: annotated-types>=0.6.0 in c:\\users\\abhinavreddymandadi\\anaconda3\\lib\\site-packages (from pydantic!=1.8,!=1.8.1,!=2.0.0,!=2.0.1,!=2.1.0,<3.0.0,>=1.7.4->fastapi) (0.7.0)\n",
      "Requirement already satisfied: pydantic-core==2.23.3 in c:\\users\\abhinavreddymandadi\\anaconda3\\lib\\site-packages (from pydantic!=1.8,!=1.8.1,!=2.0.0,!=2.0.1,!=2.1.0,<3.0.0,>=1.7.4->fastapi) (2.23.3)\n",
      "Requirement already satisfied: anyio<5,>=3.4.0 in c:\\users\\abhinavreddymandadi\\anaconda3\\lib\\site-packages (from starlette<0.39.0,>=0.37.2->fastapi) (3.5.0)\n",
      "Requirement already satisfied: sniffio>=1.1 in c:\\users\\abhinavreddymandadi\\anaconda3\\lib\\site-packages (from anyio<5,>=3.4.0->starlette<0.39.0,>=0.37.2->fastapi) (1.2.0)\n",
      "Requirement already satisfied: idna>=2.8 in c:\\users\\abhinavreddymandadi\\anaconda3\\lib\\site-packages (from anyio<5,>=3.4.0->starlette<0.39.0,>=0.37.2->fastapi) (3.3)\n"
     ]
    }
   ],
   "source": [
    "!pip install fastapi uvicorn"
   ]
  },
  {
   "cell_type": "code",
   "execution_count": 6,
   "id": "1668b2dc",
   "metadata": {},
   "outputs": [],
   "source": [
    "from fastapi import FastAPI, HTTPException\n",
    "from modules import module1  # Import your modules\n",
    "import pandas as pd\n",
    "\n",
    "app = FastAPI()\n",
    "\n",
    "# @app.get(\"/module1_function\")\n",
    "# def module1_function(x: int, y: int):\n",
    "#     return {\"result\": x + y}\n",
    "\n",
    "@app.get(\"/module1_function\")\n",
    "def module1_function(x: int, y: int):\n",
    "    # Create a DataFrame with the given integers\n",
    "    df = pd.DataFrame({'x': [x], 'y': [y]})\n",
    "    \n",
    "    # Add a new column with the sum of 'x' and 'y'\n",
    "    df['sum'] = df['x'] + df['y']\n",
    "    \n",
    "    # Return the DataFrame\n",
    "    return df"
   ]
  },
  {
   "cell_type": "code",
   "execution_count": 7,
   "id": "f40ee722",
   "metadata": {},
   "outputs": [
    {
     "data": {
      "text/html": [
       "<div>\n",
       "<style scoped>\n",
       "    .dataframe tbody tr th:only-of-type {\n",
       "        vertical-align: middle;\n",
       "    }\n",
       "\n",
       "    .dataframe tbody tr th {\n",
       "        vertical-align: top;\n",
       "    }\n",
       "\n",
       "    .dataframe thead th {\n",
       "        text-align: right;\n",
       "    }\n",
       "</style>\n",
       "<table border=\"1\" class=\"dataframe\">\n",
       "  <thead>\n",
       "    <tr style=\"text-align: right;\">\n",
       "      <th></th>\n",
       "      <th>x</th>\n",
       "      <th>y</th>\n",
       "      <th>sum</th>\n",
       "    </tr>\n",
       "  </thead>\n",
       "  <tbody>\n",
       "    <tr>\n",
       "      <th>0</th>\n",
       "      <td>5</td>\n",
       "      <td>3</td>\n",
       "      <td>8</td>\n",
       "    </tr>\n",
       "  </tbody>\n",
       "</table>\n",
       "</div>"
      ],
      "text/plain": [
       "   x  y  sum\n",
       "0  5  3    8"
      ]
     },
     "execution_count": 7,
     "metadata": {},
     "output_type": "execute_result"
    }
   ],
   "source": [
    "module1_function(5,3)"
   ]
  },
  {
   "cell_type": "code",
   "execution_count": 10,
   "id": "8f59ae81",
   "metadata": {},
   "outputs": [
    {
     "name": "stdout",
     "output_type": "stream",
     "text": [
      "[{'x': 5, 'y': 10, 'sum': 15}]\n"
     ]
    }
   ],
   "source": [
    "import requests\n",
    "\n",
    "# Define the API URL\n",
    "api_url = \"http://127.0.0.1:8000/module1_function\"\n",
    "\n",
    "# Define the parameters\n",
    "params = {'x': 5, 'y': 10}\n",
    "\n",
    "# Make the GET request to the API\n",
    "response = requests.get(api_url, params=params)\n",
    "\n",
    "# Check if the request was successful\n",
    "if response.status_code == 200:\n",
    "    # Print the JSON response\n",
    "    print(response.json())\n",
    "else:\n",
    "    # Print the error message\n",
    "    print(f\"Error {response.status_code}: {response.text}\")\n"
   ]
  },
  {
   "cell_type": "code",
   "execution_count": 34,
   "id": "59b91c31",
   "metadata": {},
   "outputs": [
    {
     "name": "stdout",
     "output_type": "stream",
     "text": [
      "Error 404: {\"detail\":\"Not Found\"}\n"
     ]
    }
   ],
   "source": [
    "import requests\n",
    "\n",
    "# Define the API URL\n",
    "api_url = \"http://127.0.0.1:8001/DataProcessor/get_query_output\"\n",
    "\n",
    "# Define the parameters\n",
    "params = {'command': 'SELECT * FROM INFORMATION_SCHEMA.TABLES',\n",
    "          'sql_server': 'amb-dm-sql-server.database.windows.net',\n",
    "          'database' : 'amb_unified_model',\n",
    "          'sql_user': 'amb_dm_sql_admin',\n",
    "          'sql_password': 'Prudent@2023'}\n",
    "\n",
    "# Make the GET request to the API\n",
    "response = requests.get(api_url, params=params)\n",
    "\n",
    "# Check if the request was successful\n",
    "if response.status_code == 200:\n",
    "    # Print the JSON response\n",
    "    print(response.json())\n",
    "else:\n",
    "    # Print the error message\n",
    "    print(f\"Error {response.status_code}: {response.text}\")\n"
   ]
  },
  {
   "cell_type": "code",
   "execution_count": 38,
   "id": "2e7d05da",
   "metadata": {},
   "outputs": [
    {
     "name": "stdout",
     "output_type": "stream",
     "text": [
      "^C\n"
     ]
    }
   ],
   "source": [
    "!uvicorn DataProcessor:app --reload --port 8001"
   ]
  },
  {
   "cell_type": "code",
   "execution_count": 5,
   "id": "e04eb7a4",
   "metadata": {},
   "outputs": [
    {
     "name": "stdout",
     "output_type": "stream",
     "text": [
      "<Response [200]>\n"
     ]
    }
   ],
   "source": [
    "import requests\n",
    "import pandas as pd\n",
    "\n",
    "# Define the API URL\n",
    "api_url = \"http://127.0.0.1:8000/DataProcessor/get_query_output\"\n",
    "\n",
    "# Define the parameters\n",
    "params = {'sql_server': 'amb-dm-sql-server.database.windows.net',\n",
    "          'database' : 'amb_unified_model',\n",
    "          'sql_user': 'amb_dm_sql_admin',\n",
    "          'sql_password': 'Prudent@2023',\n",
    "          'command': 'SELECT * FROM INFORMATION_SCHEMA.TABLES'         \n",
    "         }\n",
    "\n",
    "# Make the GET request to the API\n",
    "response = requests.get(api_url, params=params)\n",
    "\n",
    "# Check if the request was successful\n",
    "if response.status_code == 200:\n",
    "    # Print the JSON response\n",
    "    print(response)\n",
    "    df = pd.DataFrame(response.json())\n",
    "else:\n",
    "    # Print the error message\n",
    "    print(f\"Error {response.status_code}: {response.text}\")\n"
   ]
  },
  {
   "cell_type": "code",
   "execution_count": 6,
   "id": "240b35bb",
   "metadata": {},
   "outputs": [
    {
     "data": {
      "text/html": [
       "<div>\n",
       "<style scoped>\n",
       "    .dataframe tbody tr th:only-of-type {\n",
       "        vertical-align: middle;\n",
       "    }\n",
       "\n",
       "    .dataframe tbody tr th {\n",
       "        vertical-align: top;\n",
       "    }\n",
       "\n",
       "    .dataframe thead th {\n",
       "        text-align: right;\n",
       "    }\n",
       "</style>\n",
       "<table border=\"1\" class=\"dataframe\">\n",
       "  <thead>\n",
       "    <tr style=\"text-align: right;\">\n",
       "      <th></th>\n",
       "      <th>TABLE_CATALOG</th>\n",
       "      <th>TABLE_SCHEMA</th>\n",
       "      <th>TABLE_NAME</th>\n",
       "      <th>TABLE_TYPE</th>\n",
       "    </tr>\n",
       "  </thead>\n",
       "  <tbody>\n",
       "    <tr>\n",
       "      <th>0</th>\n",
       "      <td>amb_unified_model</td>\n",
       "      <td>dbo</td>\n",
       "      <td>sysdiagrams</td>\n",
       "      <td>BASE TABLE</td>\n",
       "    </tr>\n",
       "    <tr>\n",
       "      <th>1</th>\n",
       "      <td>amb_unified_model</td>\n",
       "      <td>dbo</td>\n",
       "      <td>SRC_LEGACY_VENDOR_INVOICES</td>\n",
       "      <td>BASE TABLE</td>\n",
       "    </tr>\n",
       "    <tr>\n",
       "      <th>2</th>\n",
       "      <td>amb_unified_model</td>\n",
       "      <td>dbo</td>\n",
       "      <td>DB_SF_DM_SF_Project_Team__c</td>\n",
       "      <td>BASE TABLE</td>\n",
       "    </tr>\n",
       "    <tr>\n",
       "      <th>3</th>\n",
       "      <td>amb_unified_model</td>\n",
       "      <td>dbo</td>\n",
       "      <td>DB_SF_DM_SF_COMMISSION__C_backup</td>\n",
       "      <td>BASE TABLE</td>\n",
       "    </tr>\n",
       "    <tr>\n",
       "      <th>4</th>\n",
       "      <td>amb_unified_model</td>\n",
       "      <td>dbo</td>\n",
       "      <td>Numbers_1</td>\n",
       "      <td>BASE TABLE</td>\n",
       "    </tr>\n",
       "  </tbody>\n",
       "</table>\n",
       "</div>"
      ],
      "text/plain": [
       "       TABLE_CATALOG TABLE_SCHEMA                        TABLE_NAME  \\\n",
       "0  amb_unified_model          dbo                       sysdiagrams   \n",
       "1  amb_unified_model          dbo        SRC_LEGACY_VENDOR_INVOICES   \n",
       "2  amb_unified_model          dbo       DB_SF_DM_SF_Project_Team__c   \n",
       "3  amb_unified_model          dbo  DB_SF_DM_SF_COMMISSION__C_backup   \n",
       "4  amb_unified_model          dbo                         Numbers_1   \n",
       "\n",
       "   TABLE_TYPE  \n",
       "0  BASE TABLE  \n",
       "1  BASE TABLE  \n",
       "2  BASE TABLE  \n",
       "3  BASE TABLE  \n",
       "4  BASE TABLE  "
      ]
     },
     "execution_count": 6,
     "metadata": {},
     "output_type": "execute_result"
    }
   ],
   "source": [
    "df.head()"
   ]
  },
  {
   "cell_type": "code",
   "execution_count": null,
   "id": "8d019473",
   "metadata": {},
   "outputs": [],
   "source": [
    "from io import StringIO\n",
    "\n",
    "# Create a sample DataFrame\n",
    "data = {\n",
    "    'id': [1, 2, 3],\n",
    "    'name': ['Alice', 'Bob', 'Charlie'],\n",
    "    'age': [25, 30, 35],\n",
    "    'email': ['alice@example.com', 'bob@example.com', 'charlie@example.com']\n",
    "}\n",
    "df = pd.DataFrame(data)\n",
    "\n",
    "# Convert DataFrame to CSV string\n",
    "csv_buffer = StringIO()\n",
    "df.to_csv(csv_buffer, index=False)\n",
    "csv_data = csv_buffer.getvalue()\n"
   ]
  },
  {
   "cell_type": "code",
   "execution_count": null,
   "id": "9e05fc7c",
   "metadata": {},
   "outputs": [],
   "source": [
    "import pprint\n",
    "\n",
    "# Define the API URL\n",
    "api_url = \"http://127.0.0.1:8000/DataProcessor/process_and_upload_data\"\n",
    "\n",
    "# Define the parameters\n",
    "params = {'sql_server': 'amb-dm-sql-server.database.windows.net',\n",
    "          'database' : 'amb_udm_stg',\n",
    "          'sql_user': 'amb_dm_sql_admin',\n",
    "          'sql_password': 'Prudent@2023',\n",
    "          'data': csv_data,\n",
    "          'table_name': 'testing',\n",
    "          \"if_exists\": \"replace\"\n",
    "         }\n",
    "files = {\"data\": (\"sample_data.csv\", StringIO(csv_data), \"text/csv\")}\n",
    "# Make the GET request to the API\n",
    "response = requests.post(api_url, params=params, files=files)\n",
    "\n",
    "print(\"Status Code:\", response.status_code)\n",
    "\n",
    "pprint.pprint(response.json())\n"
   ]
  },
  {
   "cell_type": "code",
   "execution_count": 1,
   "id": "88f4a88b",
   "metadata": {},
   "outputs": [],
   "source": [
    "!pip freeze > requirements.txt"
   ]
  },
  {
   "cell_type": "code",
   "execution_count": null,
   "id": "5f9398ab",
   "metadata": {},
   "outputs": [],
   "source": [
    "# http://127.0.0.1:8000/module1_function?x=5&y=10latest_terms\n"
   ]
  },
  {
   "cell_type": "code",
   "execution_count": 3,
   "id": "6fbb1e61",
   "metadata": {},
   "outputs": [],
   "source": [
    "# !uvicorn app:app --reload"
   ]
  },
  {
   "cell_type": "code",
   "execution_count": 33,
   "id": "f100b33a",
   "metadata": {},
   "outputs": [
    {
     "name": "stdout",
     "output_type": "stream",
     "text": [
      "Python Version: 3.9.12 (main, Apr  4 2022, 05:22:27) [MSC v.1916 64 bit (AMD64)]\n"
     ]
    }
   ],
   "source": [
    "import sys\n",
    "\n",
    "# Get Python version\n",
    "python_version = sys.version\n",
    "\n",
    "print(\"Python Version:\", python_version)\n"
   ]
  }
 ],
 "metadata": {
  "kernelspec": {
   "display_name": "Python 3 (ipykernel)",
   "language": "python",
   "name": "python3"
  },
  "language_info": {
   "codemirror_mode": {
    "name": "ipython",
    "version": 3
   },
   "file_extension": ".py",
   "mimetype": "text/x-python",
   "name": "python",
   "nbconvert_exporter": "python",
   "pygments_lexer": "ipython3",
   "version": "3.9.12"
  }
 },
 "nbformat": 4,
 "nbformat_minor": 5
}
